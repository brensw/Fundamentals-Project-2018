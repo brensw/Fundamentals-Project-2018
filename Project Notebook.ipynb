{
 "cells": [
  {
   "cell_type": "markdown",
   "metadata": {
    "collapsed": true
   },
   "source": [
    "# Box plots and their uses\n",
    "\n",
    "The purpose of this Notebook is to describe the origin and function of box plots. The history of the box plot will first be examined followed by its composition, lastly the use of the box plot to explore data will be demostrated using Fischers'Iris dataset. \n",
    "\n",
    "\n",
    "## Origin\n",
    "The box, or box and whisker plot is a compact distrubuitional summary particularly useful for comparing\n",
    "distributions across groups(1). It was introduced in 1969 by the math a mathimathticin John Tukey as a method of exploritive data analysis. Tukeys boxplot built upon the \"range bar\"  developed by Mary Eleanor Spear in the early 1950's (2). \n",
    "\n",
    "## Compsition\n",
    "The box plot uses a five number summary of a dataset on order to create the plot.The five numbers summary includes:\n",
    "- Minimum\n",
    "- First Quartile\n",
    "- Median (Second Quartile)\n",
    "- Third Quartile\n",
    "- Maximum\n",
    "\n",
    "Some varation exists in the  placement of the end of the whisker when generating box plots. One my choose the absolute maximum and minimum values in the data, or one may choose to use the data values which lie closest to 1.5 times the inter-fourth range from the median,\n",
    "\n",
    " How the five elements are used in order to create a box plot can be seen in figure 1 below. A comparison between a bell curve and box plot is shown in figure 2. \n",
    "![Box plot](img/boxploteg.png)\n",
    "*(Fig. 1) Box plot Composition ([Source](https://chartio.com/resources/tutorials/what-is-a-box-plot/))*\n",
    "\n",
    "![Box plot](img/boxVbell.png)\n",
    "*(Fig. 2) Box plot Vs Bell curve ([Source](https://en.wikipedia.org/wiki/Box_plot#/media/File:Boxplot_vs_PDF.svg))*\n",
    "\n",
    "\n",
    "\n",
    "\n",
    "\n",
    "### Reference \n",
    "1: 40 years of boxplots,Hadley Wickham and Lisa Stryjewski,November 29, 2011\n",
    "2: Tufte, E. R. “Data-Ink Maximization and Graphical Design.” Oikos, vol. 58, no. 2, 1990, pp. 130–144. JSTOR, JSTOR, www.jstor.org/stable/3545420."
   ]
  },
  {
   "cell_type": "code",
   "execution_count": 12,
   "metadata": {},
   "outputs": [
    {
     "data": {
      "image/png": "[encoded data removed]",
      "text/plain": [
       "<Figure size 432x288 with 1 Axes>"
      ]
     },
     "metadata": {
      "needs_background": "light"
     },
     "output_type": "display_data"
    }
   ],
   "source": [
    "import seaborn as sns \n",
    "\n",
    "iris = sns.load_dataset(\"iris\")\n",
    "colours= [ \"#95a5a6\", \"#e74c3c\", \"#34495e\", \"#2ecc71\"]\n",
    "ax = sns.boxplot(data=iris, orient=\"v\", palette=(colours)) \n"
   ]
  },
  {
   "cell_type": "code",
   "execution_count": null,
   "metadata": {},
   "outputs": [],
   "source": []
  }
 ],
 "metadata": {
  "kernelspec": {
   "display_name": "Python 3",
   "language": "python",
   "name": "python3"
  },
  "language_info": {
   "codemirror_mode": {
    "name": "ipython",
    "version": 3
   },
   "file_extension": ".py",
   "mimetype": "text/x-python",
   "name": "python",
   "nbconvert_exporter": "python",
   "pygments_lexer": "ipython3",
   "version": "3.6.7"
  }
 },
 "nbformat": 4,
 "nbformat_minor": 2
}
